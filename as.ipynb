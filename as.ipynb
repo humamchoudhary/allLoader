{
 "cells": [
  {
   "cell_type": "code",
   "execution_count": null,
   "metadata": {},
   "outputs": [],
   "source": [
    "from instascrape import *\n"
   ]
  },
  {
   "cell_type": "code",
   "execution_count": null,
   "metadata": {},
   "outputs": [],
   "source": [
    "google_post = IGTV('https://www.instagram.com/tv/CteXxgigDLV',{\"shortcode\":\"CteXxgigDLV\"})\n",
    "google_post.download(\"/Insta\")\n",
    "# print(google_post['hashtags'])"
   ]
  },
  {
   "cell_type": "code",
   "execution_count": null,
   "metadata": {},
   "outputs": [],
   "source": [
    "\n",
    "with Instascraper() as insta:\n",
    "    \n",
    "    posts = insta.profile(\"manzoor._.21\").timeline_posts()\n",
    "    posts.limit(10).preload(True)\n",
    "    posts.download_all(dest=\"./Instagram\")"
   ]
  },
  {
   "cell_type": "code",
   "execution_count": null,
   "metadata": {},
   "outputs": [],
   "source": [
    "import os\n",
    "print(os.getcwd())"
   ]
  },
  {
   "cell_type": "code",
   "execution_count": null,
   "metadata": {},
   "outputs": [],
   "source": [
    "from pytube import YouTube\n",
    "url = \"https://www.youtube.com/watch?v=IdRRewpr_CA\"\n",
    "res = '720'\n",
    "yt = YouTube(url)\n",
    "# if \"shorts\" in url:\n",
    "    # print(yt.streams.get_highest_resolution().resolution)\n",
    "res = []\n",
    "for stream in yt.streams:\n",
    "    res.append(stream.resolution)\n",
    "res = set(res)"
   ]
  },
  {
   "cell_type": "code",
   "execution_count": null,
   "metadata": {},
   "outputs": [],
   "source": [
    "yt = YouTube(url)\n",
    "print(yt.streams.all)\n",
    "video = yt.streams.filter(res=f\"720p\").first()\n",
    "print(video)\n",
    "# video.download(\"./Instagram/test.mp4\")\n",
    "# return send_file(video_data, download_name=filename, as_attachment=True)"
   ]
  },
  {
   "cell_type": "code",
   "execution_count": null,
   "metadata": {},
   "outputs": [],
   "source": [
    "video.download(filename=\"test.mp4\")\n"
   ]
  },
  {
   "cell_type": "code",
   "execution_count": null,
   "metadata": {},
   "outputs": [],
   "source": [
    "import instaloader"
   ]
  },
  {
   "cell_type": "code",
   "execution_count": null,
   "metadata": {},
   "outputs": [],
   "source": [
    "L = instaloader.Instaloader()"
   ]
  },
  {
   "cell_type": "code",
   "execution_count": null,
   "metadata": {},
   "outputs": [],
   "source": [
    "post = instaloader.Post.from_shortcode(L.context, 'CtrN_mYOPoJ')"
   ]
  },
  {
   "cell_type": "code",
   "execution_count": null,
   "metadata": {},
   "outputs": [],
   "source": [
    "video_url = post.video_url\n"
   ]
  },
  {
   "cell_type": "code",
   "execution_count": null,
   "metadata": {},
   "outputs": [],
   "source": [
    "post.is_video"
   ]
  },
  {
   "cell_type": "code",
   "execution_count": null,
   "metadata": {},
   "outputs": [],
   "source": [
    "p_link = \"https://www.instagram.com/p/CtrN_mYOPoJ/\""
   ]
  },
  {
   "cell_type": "code",
   "execution_count": null,
   "metadata": {},
   "outputs": [],
   "source": [
    "l = p_link.split(\"/\")\n",
    "if \"p\" in l or \"tv\" in l or \"reel\" in l:\n",
    "    shortcode = l[4]\n",
    "else:\n",
    "    print(\"error\")\n"
   ]
  },
  {
   "cell_type": "code",
   "execution_count": null,
   "metadata": {},
   "outputs": [],
   "source": [
    "l"
   ]
  },
  {
   "cell_type": "code",
   "execution_count": null,
   "metadata": {},
   "outputs": [],
   "source": [
    "L.download_post(post, target='./Instagram/')"
   ]
  },
  {
   "cell_type": "code",
   "execution_count": null,
   "metadata": {},
   "outputs": [
    {
     "data": {
      "text/plain": [
       "'https://instagram.fisb3-2.fna.fbcdn.net/v/t51.2885-15/354632155_261666209876038_2637183809698720390_n.jpg?stp=dst-jpg_e15_fr_s1080x1080&_nc_ht=instagram.fisb3-2.fna.fbcdn.net&_nc_cat=110&_nc_ohc=vTqtiKFCb8cAX9pTgCp&edm=AP_V10EBAAAA&ccb=7-5&oh=00_AfBK_WCVoLO17MMPH3tp3CK_XK2aPrlgjWIkEkHKGhSGig&oe=6496C741&_nc_sid=8721cf'"
      ]
     },
     "metadata": {},
     "output_type": "display_data"
    }
   ],
   "source": [
    "post._asdict()[\"display_url\"]\n"
   ]
  },
  {
   "cell_type": "code",
   "execution_count": null,
   "metadata": {},
   "outputs": [
    {
     "data": {
      "text/plain": [
       "{'__typename': 'GraphImage',\n",
       " 'id': '3128655911279196681',\n",
       " 'shortcode': 'CtrN_mYOPoJ',\n",
       " 'dimensions': {'height': 1080, 'width': 1080},\n",
       " 'gating_info': None,\n",
       " 'fact_check_overall_rating': None,\n",
       " 'fact_check_information': None,\n",
       " 'media_preview': 'ACoq6aiqTahAjMjNgp14P+FI2pW4/iySMjAPT8qV13HZ9i9RWWNYtzjk8+3THr6Uz+27fjO8Z6fKefpTEa9FU4L+Gdtin5uuCCPy9auUAcbdR7riQk/xHjPbP+NRi1xx1zyDn9M10E+lCUsQ2NzbunfP1H0Hp161Imn7W3Fs46ce+fX8B7Csve7de/Qp26aabvXX0OaW2Cff7nt7VWhTc3J+70rqpdMMm7D43+g6cfX8ffvTRpAXdtfBYAdOmPx78Uves9Py/r/hi/d0t0X4mNay+VMCT1I5/HmuwByMjvWGmjESBmfKjsBg/nmtwDHFaRTW5ErdBaKKKokKKKKACiiigD//2Q==',\n",
       " 'display_url': 'https://instagram.fisb3-2.fna.fbcdn.net/v/t51.2885-15/354632155_261666209876038_2637183809698720390_n.jpg?stp=dst-jpg_e15_fr_s1080x1080&_nc_ht=instagram.fisb3-2.fna.fbcdn.net&_nc_cat=110&_nc_ohc=vTqtiKFCb8cAX9pTgCp&edm=AP_V10EBAAAA&ccb=7-5&oh=00_AfBK_WCVoLO17MMPH3tp3CK_XK2aPrlgjWIkEkHKGhSGig&oe=6496C741&_nc_sid=8721cf',\n",
       " 'display_resources': [{'src': 'https://instagram.fisb3-2.fna.fbcdn.net/v/t51.2885-15/354632155_261666209876038_2637183809698720390_n.jpg?stp=dst-jpg_e35_s640x640_sh0.08&_nc_ht=instagram.fisb3-2.fna.fbcdn.net&_nc_cat=110&_nc_ohc=vTqtiKFCb8cAX9pTgCp&edm=AP_V10EBAAAA&ccb=7-5&oh=00_AfAWuUShVn9PTzEm-uD8MyW5dZFvTIb6B2VR12NJkLGR-A&oe=6496C741&_nc_sid=8721cf',\n",
       "   'config_width': 640,\n",
       "   'config_height': 640},\n",
       "  {'src': 'https://instagram.fisb3-2.fna.fbcdn.net/v/t51.2885-15/354632155_261666209876038_2637183809698720390_n.jpg?stp=dst-jpg_e35_s750x750_sh0.08&_nc_ht=instagram.fisb3-2.fna.fbcdn.net&_nc_cat=110&_nc_ohc=vTqtiKFCb8cAX9pTgCp&edm=AP_V10EBAAAA&ccb=7-5&oh=00_AfBDzxdAcyOktoAWuGkyHtaUnSD0cPiyb82sqXtkYcEADQ&oe=6496C741&_nc_sid=8721cf',\n",
       "   'config_width': 750,\n",
       "   'config_height': 750},\n",
       "  {'src': 'https://instagram.fisb3-2.fna.fbcdn.net/v/t51.2885-15/354632155_261666209876038_2637183809698720390_n.jpg?stp=dst-jpg_e15_fr_s1080x1080&_nc_ht=instagram.fisb3-2.fna.fbcdn.net&_nc_cat=110&_nc_ohc=vTqtiKFCb8cAX9pTgCp&edm=AP_V10EBAAAA&ccb=7-5&oh=00_AfBK_WCVoLO17MMPH3tp3CK_XK2aPrlgjWIkEkHKGhSGig&oe=6496C741&_nc_sid=8721cf',\n",
       "   'config_width': 1080,\n",
       "   'config_height': 1080}],\n",
       " 'accessibility_caption': 'Illustration of Black Americans gathered in celebration. Four people of various ages dance in the background with heads overhead and a small boy with a Cochlear implant drumming in front. Three people\\'s profiles are lined up on the right side with a white dove flying overhead. Colorful yellow, red, orange, and black patterned triangle flags hang at the top of frame. The Google logo sits at the bottom of frame with the boy\\'s drum standing in for the second \"O\".',\n",
       " 'is_video': False,\n",
       " 'tracking_token': 'eyJ2ZXJzaW9uIjo1LCJwYXlsb2FkIjp7ImlzX2FuYWx5dGljc190cmFja2VkIjp0cnVlLCJ1dWlkIjoiOTJhN2M5ZGQ4ZDBjNGIxNWJkNjRmODcxNzVjMzVmZTczMTI4NjU1OTExMjc5MTk2NjgxIn0sInNpZ25hdHVyZSI6IiJ9',\n",
       " 'edge_media_to_tagged_user': {'edges': []},\n",
       " 'edge_media_to_caption': {'edges': [{'node': {'text': \"Today's #GoogleDoodle celebrates Juneteenth, when news of freedom was finally delivered to enslaved Black Americans in Galveston Bay, TX in 1865. It’s a day to reflect on a history of struggle, celebrate progress that has been made and engage in ongoing efforts to create a just nation. Learn more at the link in bio.\"}}]},\n",
       " 'caption_is_edited': False,\n",
       " 'has_ranked_comments': False,\n",
       " 'edge_media_to_comment': {'count': 105,\n",
       "  'page_info': {'has_next_page': True, 'end_cursor': ''},\n",
       "  'edges': []},\n",
       " 'comments_disabled': False,\n",
       " 'commenting_disabled_for_viewer': False,\n",
       " 'taken_at_timestamp': 1687184870,\n",
       " 'edge_media_preview_like': {'count': 6565, 'edges': []},\n",
       " 'edge_media_to_sponsor_user': {'edges': []},\n",
       " 'location': None,\n",
       " 'viewer_has_liked': False,\n",
       " 'viewer_has_saved': False,\n",
       " 'viewer_has_saved_to_collection': False,\n",
       " 'viewer_in_photo_of_you': False,\n",
       " 'viewer_can_reshare': True,\n",
       " 'owner': {'id': '1067259270',\n",
       "  'is_verified': True,\n",
       "  'profile_pic_url': 'https://instagram.fisb3-2.fna.fbcdn.net/v/t51.2885-19/126151620_3420222801423283_6498777152086077438_n.jpg?stp=dst-jpg_s150x150&_nc_ht=instagram.fisb3-2.fna.fbcdn.net&_nc_cat=1&_nc_ohc=DYX3ZzoCpe8AX9bjZZI&edm=AP_V10EBAAAA&ccb=7-5&oh=00_AfC_fH0uvIUMILa5_n-vnw-ToG8Y4ATrqcOETluw-hyEuQ&oe=64982E04&_nc_sid=8721cf',\n",
       "  'username': 'google',\n",
       "  'blocked_by_viewer': False,\n",
       "  'followed_by_viewer': False,\n",
       "  'full_name': 'Google',\n",
       "  'has_blocked_viewer': False,\n",
       "  'is_private': False,\n",
       "  'is_unpublished': False,\n",
       "  'requested_by_viewer': False},\n",
       " 'is_ad': False,\n",
       " 'edge_web_media_to_related_media': {'edges': []}}"
      ]
     },
     "metadata": {},
     "output_type": "display_data"
    }
   ],
   "source": [
    "post._asdict()"
   ]
  },
  {
   "cell_type": "code",
   "execution_count": null,
   "metadata": {},
   "outputs": [],
   "source": []
  }
 ],
 "metadata": {
  "kernelspec": {
   "display_name": "env",
   "language": "python",
   "name": "python3"
  },
  "language_info": {
   "name": "python",
   "version": "3.8.10 (default, May 26 2023, 14:05:08) \n[GCC 9.4.0]"
  },
  "orig_nbformat": 4,
  "vscode": {
   "interpreter": {
    "hash": "18060ba587b3161f7034fb3c7ac1618ef71098987b7dcbd340bfd4255dadadbb"
   }
  }
 },
 "nbformat": 4,
 "nbformat_minor": 2
}
